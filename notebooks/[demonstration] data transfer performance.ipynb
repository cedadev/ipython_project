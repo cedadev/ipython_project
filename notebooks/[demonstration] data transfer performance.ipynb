{
 "metadata": {
  "name": "[demonstration] data transfer performance"
 },
 "nbformat": 3,
 "nbformat_minor": 0,
 "worksheets": [
  {
   "cells": [
    {
     "cell_type": "code",
     "collapsed": false,
     "input": [
      "import numpy\n",
      "from IPython.parallel import Client\n",
      "\n",
      "c = Client()\n",
      "dv = c[:]\n",
      "dv.block = True\n",
      "print 'engines:', len(dv.targets), dv.targets"
     ],
     "language": "python",
     "metadata": {},
     "outputs": [
      {
       "output_type": "stream",
       "stream": "stdout",
       "text": [
        "engines: 8 [0, 1, 2, 3, 4, 5, 6, 7]\n"
       ]
      }
     ],
     "prompt_number": 1
    },
    {
     "cell_type": "code",
     "collapsed": false,
     "input": [
      "a = numpy.zeros(20000000)\n",
      "%timeit dv.push({'a': a})\n",
      "%timeit dv.pull('a')"
     ],
     "language": "python",
     "metadata": {},
     "outputs": [
      {
       "output_type": "stream",
       "stream": "stdout",
       "text": [
        "1 loops, best of 3: 6.96 s per loop\n",
        "1 loops, best of 3: 8.62 s per loop"
       ]
      },
      {
       "output_type": "stream",
       "stream": "stdout",
       "text": [
        "\n"
       ]
      }
     ],
     "prompt_number": 9
    },
    {
     "cell_type": "code",
     "collapsed": false,
     "input": [
      "ssh = (6.96, 8.62)\n",
      "nossh = (6.32, 7.71)\n",
      "print 'SSH-less speedup (push/pull):', [x / y for x, y in zip(ssh, nossh)]"
     ],
     "language": "python",
     "metadata": {},
     "outputs": [
      {
       "output_type": "stream",
       "stream": "stdout",
       "text": [
        "SSH-less speedup (push/pull): [1.10126582278481, 1.1180285343709466]\n"
       ]
      }
     ],
     "prompt_number": 4
    }
   ],
   "metadata": {}
  }
 ]
}