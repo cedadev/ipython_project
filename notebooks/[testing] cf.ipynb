{
 "metadata": {
  "name": "[testing] cf"
 },
 "nbformat": 3,
 "nbformat_minor": 0,
 "worksheets": [
  {
   "cells": [
    {
     "cell_type": "code",
     "collapsed": false,
     "input": [
      "import sys\n",
      "import pickle\n",
      "\n",
      "import ncserialisable\n",
      "sys.modules['netCDF4'] = ncserialisable\n",
      "\n",
      "from IPython.parallel import Client\n",
      "\n",
      "c = Client()\n",
      "dv = c[0]\n",
      "dv.activate()\n",
      "dv.block = True\n",
      "\n",
      "with dv.sync_imports():\n",
      "    import mkserialisable"
     ],
     "language": "python",
     "metadata": {},
     "outputs": [
      {
       "output_type": "stream",
       "stream": "stdout",
       "text": [
        "importing mkserialisable on engine(s)\n"
       ]
      }
     ],
     "prompt_number": 1
    },
    {
     "cell_type": "code",
     "collapsed": false,
     "input": [
      "mkserialisable.mk_cf()\n",
      "%px mkserialisable.mk_cf()\n",
      "with dv.sync_imports():\n",
      "    import cf"
     ],
     "language": "python",
     "metadata": {},
     "outputs": [
      {
       "output_type": "stream",
       "stream": "stdout",
       "text": [
        "importing cf on engine(s)\n"
       ]
      }
     ],
     "prompt_number": 2
    },
    {
     "cell_type": "code",
     "collapsed": false,
     "input": [
      "f = cf.read('/data/cmip5/output1/MOHC/HadGEM2-ES/rcp85/mon/atmos/' \\\n",
      "            'Amon/r1i1p1/v20111215/tas/tas_Amon_HadGEM2-ES_rcp85_' \\\n",
      "            'r1i1p1_*-*.nc')[0]"
     ],
     "language": "python",
     "metadata": {},
     "outputs": [],
     "prompt_number": 3
    },
    {
     "cell_type": "code",
     "collapsed": false,
     "input": [
      "a, b = dv.apply(lambda x: (x.space, x.array[:3,:3,:3]), f)\n",
      "print a.values()[2].array[5:10]\n",
      "print b"
     ],
     "language": "python",
     "metadata": {},
     "outputs": [
      {
       "output_type": "stream",
       "stream": "stdout",
       "text": [
        "[ 70725.  70755.  70785.  70815.  70845.]\n",
        "[[[ 257.95141602  257.95141602  257.95141602]\n",
        "  [ 258.85772705  258.83319092  258.79760742]\n",
        "  [ 259.5692749   259.50787354  259.43859863]]\n",
        "\n",
        " [[ 258.05053711  258.05053711  258.05053711]\n",
        "  [ 258.92315674  258.90112305  258.87573242]\n",
        "  [ 259.61993408  259.55413818  259.4833374 ]]\n",
        "\n",
        " [[ 243.19805908  243.19805908  243.19805908]\n",
        "  [ 244.18640137  244.1494751   244.1184082 ]\n",
        "  [ 245.08178711  244.97479248  244.87915039]]]\n"
       ]
      }
     ],
     "prompt_number": 4
    }
   ],
   "metadata": {}
  }
 ]
}