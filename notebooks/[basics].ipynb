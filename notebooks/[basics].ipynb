{
 "metadata": {
  "name": "[basics]"
 },
 "nbformat": 3,
 "nbformat_minor": 0,
 "worksheets": [
  {
   "cells": [
    {
     "cell_type": "code",
     "collapsed": false,
     "input": [
      "import os\n",
      "import numpy\n",
      "from IPython import parallel\n",
      "c = parallel.Client()\n",
      "d0 = c[0]\n",
      "d1 = c[1]\n",
      "d = c[:]\n",
      "for disp in (d0, d1, d):\n",
      "    disp.block = True"
     ],
     "language": "python",
     "metadata": {},
     "outputs": [],
     "prompt_number": 1
    },
    {
     "cell_type": "code",
     "collapsed": false,
     "input": [
      "@parallel.require('numpy')\n",
      "def get_norms(A, levels = [2]):\n",
      "    norms = []\n",
      "    for level in levels:\n",
      "        norms.append(numpy.linalg.norm(A, level))\n",
      "    return norms\n",
      "\n",
      "A = numpy.random.random(1000)\n",
      "get_norms(A, levels = [1, 2, 3, numpy.inf]) == \\\n",
      "d0.apply(get_norms, A, levels = [1, 2, 3, numpy.inf])"
     ],
     "language": "python",
     "metadata": {},
     "outputs": [
      {
       "output_type": "pyout",
       "prompt_number": 27,
       "text": [
        "True"
       ]
      }
     ],
     "prompt_number": 27
    },
    {
     "cell_type": "code",
     "collapsed": false,
     "input": [
      "@d.remote(True)\n",
      "@parallel.require('os')\n",
      "def getpid ():\n",
      "    import os\n",
      "    return os.getpid()\n",
      "\n",
      "print os.getpid(), getpid()"
     ],
     "language": "python",
     "metadata": {},
     "outputs": [
      {
       "output_type": "stream",
       "stream": "stdout",
       "text": [
        "12162 [10066, 10067]\n"
       ]
      }
     ],
     "prompt_number": 5
    },
    {
     "cell_type": "code",
     "collapsed": false,
     "input": [
      "def set_x (v):\n",
      "    global x\n",
      "    x = v\n",
      "\n",
      "@d.remote(True)\n",
      "def get_x (x):\n",
      "    return x\n",
      "\n",
      "a, b = numpy.random.random(2)\n",
      "d0.apply(set_x, a)\n",
      "d1.apply(set_x, b)\n",
      "print [a, b] == get_x(parallel.Reference('x')) == d.pull('x'),\n",
      "a, b = numpy.random.random(2)\n",
      "d0.push({'x': a})\n",
      "d1.push({'x': b})\n",
      "print [a, b] == get_x(parallel.Reference('x')) == d.pull('x'),\n",
      "a, b = numpy.random.random(2)\n",
      "d0['x'] = a\n",
      "d1['x'] = b\n",
      "print [a, b] == get_x(parallel.Reference('x')) == d.pull('x')"
     ],
     "language": "python",
     "metadata": {},
     "outputs": [
      {
       "output_type": "stream",
       "stream": "stdout",
       "text": [
        "True True "
       ]
      },
      {
       "output_type": "stream",
       "stream": "stdout",
       "text": [
        "True\n"
       ]
      }
     ],
     "prompt_number": 151
    }
   ],
   "metadata": {}
  }
 ]
}