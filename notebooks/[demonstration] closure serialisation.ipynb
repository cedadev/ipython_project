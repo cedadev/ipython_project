{
 "metadata": {
  "name": "[demonstration] closure serialisation"
 },
 "nbformat": 3,
 "nbformat_minor": 0,
 "worksheets": [
  {
   "cells": [
    {
     "cell_type": "code",
     "collapsed": false,
     "input": [
      "import types\n",
      "import pickle\n",
      "import copy_reg"
     ],
     "language": "python",
     "metadata": {},
     "outputs": [],
     "prompt_number": 7
    },
    {
     "cell_type": "code",
     "collapsed": false,
     "input": [
      "# why functions with closures can't be serialised\n",
      "\n",
      "# this generates a Cell object, which represents a variable in a closure\n",
      "create_cell = lambda x: (lambda: x).func_closure[0]\n",
      "\n",
      "# create our function with a closure\n",
      "def mk ():\n",
      "    x = 5\n",
      "    y = mk\n",
      "    def f ():\n",
      "        return x, y\n",
      "    return f\n",
      "\n",
      "f = mk()\n",
      "\n",
      "# this...\n",
      "g = pickle.loads(pickle.dumps(CannedFunction(f))).getObject()\n",
      "\n",
      "# ...essentially does (would do) this\n",
      "co = f.func_code\n",
      "co = types.CodeType(co.co_argcount, co.co_nlocals, co.co_stacksize,\n",
      "                    co.co_flags, co.co_code, co.co_consts, co.co_names,\n",
      "                    co.co_varnames, co.co_filename, co.co_name,\n",
      "                    co.co_firstlineno, co.co_lnotab)\n",
      "closure = f.func_closure\n",
      "if closure is not None:\n",
      "    closure = tuple(create_cell(obj) for obj in f.func_closure)\n",
      "# recreating the code object (co) makes the function 'want' a 0-length\n",
      "# closure\n",
      "g = types.FunctionType(co, f.func_globals, f.func_name, f.func_defaults,\n",
      "                        closure)"
     ],
     "language": "python",
     "metadata": {},
     "outputs": [
      {
       "ename": "ValueError",
       "evalue": "f requires closure of length 0, not 2",
       "output_type": "pyerr",
       "traceback": [
        "\u001b[1;31m---------------------------------------------------------------------------\u001b[0m\n\u001b[1;31mValueError\u001b[0m                                Traceback (most recent call last)",
        "\u001b[1;32m<ipython-input-9-77cb2e93db04>\u001b[0m in \u001b[0;36m<module>\u001b[1;34m()\u001b[0m\n\u001b[0;32m     15\u001b[0m \u001b[1;33m\u001b[0m\u001b[0m\n\u001b[0;32m     16\u001b[0m \u001b[1;31m# this...\u001b[0m\u001b[1;33m\u001b[0m\u001b[1;33m\u001b[0m\u001b[0m\n\u001b[1;32m---> 17\u001b[1;33m \u001b[0mg\u001b[0m \u001b[1;33m=\u001b[0m \u001b[0mpickle\u001b[0m\u001b[1;33m.\u001b[0m\u001b[0mloads\u001b[0m\u001b[1;33m(\u001b[0m\u001b[0mpickle\u001b[0m\u001b[1;33m.\u001b[0m\u001b[0mdumps\u001b[0m\u001b[1;33m(\u001b[0m\u001b[0mCannedFunction\u001b[0m\u001b[1;33m(\u001b[0m\u001b[0mf\u001b[0m\u001b[1;33m)\u001b[0m\u001b[1;33m)\u001b[0m\u001b[1;33m)\u001b[0m\u001b[1;33m.\u001b[0m\u001b[0mgetObject\u001b[0m\u001b[1;33m(\u001b[0m\u001b[1;33m)\u001b[0m\u001b[1;33m\u001b[0m\u001b[0m\n\u001b[0m\u001b[0;32m     18\u001b[0m \u001b[1;33m\u001b[0m\u001b[0m\n\u001b[0;32m     19\u001b[0m \u001b[1;31m# ...essentially does (would do) this\u001b[0m\u001b[1;33m\u001b[0m\u001b[1;33m\u001b[0m\u001b[0m\n",
        "\u001b[1;32m<ipython-input-5-3280fc0df14e>\u001b[0m in \u001b[0;36mgetObject\u001b[1;34m(self, g)\u001b[0m\n\u001b[0;32m     43\u001b[0m         \u001b[0mclosure\u001b[0m \u001b[1;33m=\u001b[0m \u001b[0mtuple\u001b[0m\u001b[1;33m(\u001b[0m\u001b[0mcreate_cell\u001b[0m\u001b[1;33m(\u001b[0m\u001b[0mobj\u001b[0m\u001b[1;33m)\u001b[0m \u001b[1;32mfor\u001b[0m \u001b[0mobj\u001b[0m \u001b[1;32min\u001b[0m \u001b[0mself\u001b[0m\u001b[1;33m.\u001b[0m\u001b[0mclosure\u001b[0m\u001b[1;33m)\u001b[0m\u001b[1;33m\u001b[0m\u001b[0m\n\u001b[0;32m     44\u001b[0m         newFunc = types.FunctionType(self.code, g, self.__name__,\n\u001b[1;32m---> 45\u001b[1;33m                                      self.defaults, closure)\n\u001b[0m\u001b[0;32m     46\u001b[0m         \u001b[1;32mreturn\u001b[0m \u001b[0mnewFunc\u001b[0m\u001b[1;33m\u001b[0m\u001b[0m\n",
        "\u001b[1;31mValueError\u001b[0m: f requires closure of length 0, not 2"
       ]
      }
     ],
     "prompt_number": 9
    },
    {
     "cell_type": "code",
     "collapsed": false,
     "input": [
      "# some modified function serialisation stuff from ipython\n",
      "\n",
      "def code_ctor(*args):\n",
      "    return types.CodeType(*args)\n",
      "\n",
      "def reduce_code(co):\n",
      "    #if co.co_freevars or co.co_cellvars:\n",
      "        #raise ValueError(\"Sorry, cannot pickle code objects with closures\")\n",
      "    args = [co.co_argcount, co.co_nlocals, co.co_stacksize,\n",
      "            co.co_flags, co.co_code, co.co_consts, co.co_names,\n",
      "            co.co_varnames, co.co_filename, co.co_name, co.co_firstlineno,\n",
      "            co.co_lnotab]\n",
      "    if sys.version_info[0] >= 3:\n",
      "        args.insert(1, co.co_kwonlyargcount)\n",
      "    return code_ctor, tuple(args)\n",
      "\n",
      "copy_reg.pickle(types.CodeType, reduce_code)\n",
      "\n",
      "class CannedFunction (object):\n",
      "    def __init__(self, f):\n",
      "        self._checkType(f)\n",
      "        self.code = f.func_code\n",
      "        self.closure = [cell.cell_contents for cell in f.func_closure]\n",
      "        self.defaults = f.func_defaults\n",
      "        self.module = f.__module__ or '__main__'\n",
      "        self.__name__ = f.__name__\n",
      "\n",
      "    def _checkType(self, obj):\n",
      "        assert isinstance(obj, types.FunctionType), \"Not a function type\"\n",
      "\n",
      "    def getObject(self, g=None):\n",
      "        # try to load function back into its module:\n",
      "        if not self.module.startswith('__'):\n",
      "            try:\n",
      "                __import__(self.module)\n",
      "            except ImportError:\n",
      "                pass\n",
      "            else:\n",
      "                g = sys.modules[self.module].__dict__\n",
      "\n",
      "        if g is None:\n",
      "            g = globals()\n",
      "        closure = tuple(create_cell(obj) for obj in self.closure)\n",
      "        newFunc = types.FunctionType(self.code, g, self.__name__,\n",
      "                                     self.defaults, closure)\n",
      "        return newFunc"
     ],
     "language": "python",
     "metadata": {},
     "outputs": [],
     "prompt_number": 10
    }
   ],
   "metadata": {}
  }
 ]
}