{
 "metadata": {
  "name": "[demonstration] preservevars"
 },
 "nbformat": 3,
 "nbformat_minor": 0,
 "worksheets": [
  {
   "cells": [
    {
     "cell_type": "code",
     "collapsed": false,
     "input": [
      "from IPython.parallel import Client\n",
      "\n",
      "import preservevars\n",
      "\n",
      "c = Client()\n",
      "dv = c[:]\n",
      "dv.block = True"
     ],
     "language": "python",
     "metadata": {},
     "outputs": [],
     "prompt_number": 46
    },
    {
     "cell_type": "code",
     "collapsed": false,
     "input": [
      "def get_gl ():\n",
      "    return dict((k, str(v)) for k, v in globals().iteritems())\n",
      "\n",
      "# set up some globals\n",
      "dv['x'] = 5\n",
      "# get initial globals\n",
      "g0 = dv.apply(get_gl)\n",
      "# do something\n",
      "with preservevars.PreserveVars(dv, x = 7, y = 1):\n",
      "    print dv.apply(lambda: (x, y))\n",
      "# get final globals\n",
      "g1 = dv.apply(get_gl)\n",
      "# check globals are the same\n",
      "for a, b in zip(g0, g1):\n",
      "    for k in set(a.keys() + b.keys()):\n",
      "        if k not in a or k not in b or a[k] != b[k]:\n",
      "            print k"
     ],
     "language": "python",
     "metadata": {},
     "outputs": [
      {
       "output_type": "stream",
       "stream": "stdout",
       "text": [
        "[[7, 1], [7, 1]]\n",
        "_4bbbbedba11c4a308d3838ac61cf17e4_kwargs\n",
        "_236a3d085d054b2d8e2ec674c4f0cd8c_f\n",
        "_4bbbbedba11c4a308d3838ac61cf17e4_args\n",
        "_4bbbbedba11c4a308d3838ac61cf17e4_f\n",
        "_236a3d085d054b2d8e2ec674c4f0cd8c_args\n",
        "_4bbbbedba11c4a308d3838ac61cf17e4_result\n",
        "_236a3d085d054b2d8e2ec674c4f0cd8c_kwargs\n",
        "_236a3d085d054b2d8e2ec674c4f0cd8c_result\n",
        "_c25aa24d7412473bbefb9e81d98e375c_args\n",
        "_18b2a6c190fb4f56b96358a94e7bcf55_result\n",
        "_18b2a6c190fb4f56b96358a94e7bcf55_args\n",
        "_18b2a6c190fb4f56b96358a94e7bcf55_f\n",
        "_18b2a6c190fb4f56b96358a94e7bcf55_kwargs\n",
        "_c25aa24d7412473bbefb9e81d98e375c_kwargs\n",
        "_c25aa24d7412473bbefb9e81d98e375c_result\n",
        "_c25aa24d7412473bbefb9e81d98e375c_f\n"
       ]
      }
     ],
     "prompt_number": 47
    }
   ],
   "metadata": {}
  }
 ]
}