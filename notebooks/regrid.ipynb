{
 "metadata": {
  "name": "regrid"
 },
 "nbformat": 3,
 "nbformat_minor": 0,
 "worksheets": [
  {
   "cells": [
    {
     "cell_type": "code",
     "collapsed": false,
     "input": [
      "from IPython import parallel\n",
      "\n",
      "c = parallel.Client()\n",
      "dv = c[:]\n",
      "dv.block = True\n",
      "print len(dv.targets), dv.targets\n",
      "lv = c.load_balanced_view()\n",
      "lv.block = True\n",
      "with dv.sync_imports():\n",
      "    from time import time\n",
      "    import numpy\n",
      "    import cdms2"
     ],
     "language": "python",
     "metadata": {},
     "outputs": [
      {
       "output_type": "stream",
       "stream": "stdout",
       "text": [
        "4 [0, 1, 2, 3]\n",
        "importing time from time on engine(s)\n",
        "importing numpy on engine(s)\n",
        "importing cdms2 on engine(s)"
       ]
      },
      {
       "output_type": "stream",
       "stream": "stdout",
       "text": [
        "\n"
       ]
      }
     ],
     "prompt_number": 1
    },
    {
     "cell_type": "code",
     "collapsed": false,
     "input": [
      "def in_chunks (files, tot = None, per = 500):\n",
      "    current = (0, 0)\n",
      "    got = 0\n",
      "    chunks = []\n",
      "    i = 0\n",
      "    j = 0\n",
      "    f = None\n",
      "    done = False\n",
      "    while not done:\n",
      "        this_got = 0\n",
      "        chunk = []\n",
      "        chunks.append(chunk)\n",
      "        while True:\n",
      "            if f is None:\n",
      "                if len(files) == i:\n",
      "                    done = True\n",
      "                    break\n",
      "                f = cdms2.open(files[i])\n",
      "                n = f[name].shape[0]\n",
      "            remain = n - j\n",
      "            want = per - this_got\n",
      "            if tot is not None:\n",
      "                tot_want = tot - got\n",
      "            if tot is not None and want >= tot_want and remain >= tot_want:\n",
      "                # finish\n",
      "                chunk.append((i, j, tot_want))\n",
      "                done = True\n",
      "                f.close()\n",
      "                break\n",
      "            elif (tot is None or tot_want >= want) and remain >= want:\n",
      "                # next chunk\n",
      "                chunk.append((i, j, want))\n",
      "                j += want\n",
      "                this_got += want\n",
      "                got += want\n",
      "                break\n",
      "            else:\n",
      "                # next file\n",
      "                chunk.append((i, j, remain))\n",
      "                j = 0\n",
      "                this_got += remain\n",
      "                got += remain\n",
      "                f.close()\n",
      "                f = None\n",
      "                i += 1\n",
      "    return chunks"
     ],
     "language": "python",
     "metadata": {},
     "outputs": [],
     "prompt_number": 2
    },
    {
     "cell_type": "code",
     "collapsed": false,
     "input": [
      "def regrid_one (chunks):\n",
      "    from_chunk, to_chunk, timed = chunks\n",
      "    if timed:\n",
      "        t0 = time()\n",
      "    f_to = cdms2.open(fs_to[to_chunk[0][0]])\n",
      "    to_grid = f_to[name].getGrid()\n",
      "    for i, start, n in from_chunk:\n",
      "        f_from = cdms2.open(fs_from[i])\n",
      "        v = f_from[name][start:start + n]\n",
      "        v.regrid(to_grid)\n",
      "        f_from.close()\n",
      "    f_to.close()\n",
      "    if timed:\n",
      "        return time() - t0\n",
      "    else:\n",
      "        return []\n",
      "\n",
      "\n",
      "def regrid_one_diffmean (chunks):\n",
      "    from_chunk, to_chunk, timed = chunks\n",
      "    if timed:\n",
      "        t0 = time()\n",
      "    shapes = []\n",
      "    to_arrs = []\n",
      "    first = True\n",
      "    for i, start, n in to_chunk:\n",
      "        f_to = cdms2.open(fs_to[i])\n",
      "        to_arrs.append(numpy.array(f_to[name][start:start + n]))\n",
      "        if first:\n",
      "            f = f_to\n",
      "            to_grid = f_to[name].getGrid()\n",
      "        else:\n",
      "            f_to.close()\n",
      "    from_arrs = []\n",
      "    for i, start, n in from_chunk:\n",
      "        f_from = cdms2.open(fs_from[i])\n",
      "        v = f_from[name][start:start + n]\n",
      "        from_arrs.append(numpy.array(v.regrid(to_grid)))\n",
      "        f_from.close()\n",
      "    f.close()\n",
      "    a = numpy.vstack(to_arrs) - numpy.vstack(from_arrs)\n",
      "    if timed:\n",
      "        return time() - t0\n",
      "    return a.mean(1).mean(1)\n",
      "\n",
      "def regrid (n, view = None, timed = False, do_one = regrid_one):\n",
      "    if view is not None:\n",
      "        dv.push({'fs_from': fs_from, 'fs_to': fs_to, 'name': name})\n",
      "        do = view.map\n",
      "    else:\n",
      "        do = map\n",
      "    from_chunks = in_chunks(fs_from, n)\n",
      "    to_chunks = in_chunks(fs_to, n)\n",
      "    rtn = do(do_one, zip(from_chunks, to_chunks, [timed] * len(from_chunks)))\n",
      "    if timed:\n",
      "        return rtn\n",
      "    else:\n",
      "        return numpy.hstack(rtn)"
     ],
     "language": "python",
     "metadata": {},
     "outputs": [],
     "prompt_number": 3
    },
    {
     "cell_type": "code",
     "collapsed": false,
     "input": [
      "def get_sizes ():\n",
      "    ns = []\n",
      "    for fs in (fs_from, fs_to):\n",
      "        n = 0\n",
      "        for f in fs:\n",
      "            f = cdms2.open(f)\n",
      "            n += f[name].shape[0]\n",
      "            f.close()\n",
      "        ns.append(n)\n",
      "    return ns"
     ],
     "language": "python",
     "metadata": {},
     "outputs": [],
     "prompt_number": 4
    },
    {
     "cell_type": "code",
     "collapsed": false,
     "input": [
      "fs_from = \n",
      "fs_to = \n",
      "name = "
     ],
     "language": "python",
     "metadata": {},
     "outputs": [],
     "prompt_number": 17
    },
    {
     "cell_type": "code",
     "collapsed": false,
     "input": [
      "fn = regrid_one\n",
      "n = min(get_sizes())\n",
      "print n\n",
      "%timeit regrid(n, None, False, fn)\n",
      "%timeit regrid(n, dv, False, fn)\n",
      "#%timeit regrid(n, lv, False, fn)\n",
      "#print (regrid_serial(n) == regrid_parallel(n)).all()"
     ],
     "language": "python",
     "metadata": {},
     "outputs": [
      {
       "output_type": "stream",
       "stream": "stdout",
       "text": [
        "34675\n",
        "1 loops, best of 3: 170 s per loop"
       ]
      },
      {
       "output_type": "stream",
       "stream": "stdout",
       "text": [
        "\n",
        "1 loops, best of 3: 50 s per loop"
       ]
      },
      {
       "output_type": "stream",
       "stream": "stdout",
       "text": [
        "\n"
       ]
      }
     ],
     "prompt_number": 18
    },
    {
     "cell_type": "code",
     "collapsed": false,
     "input": [
      "n = min(get_sizes())\n",
      "print n\n",
      "for view in (lv, dv):\n",
      "    t0 = time()\n",
      "    result = regrid(n, view, True)\n",
      "    s = sum(result)\n",
      "    dt = time() - t0\n",
      "    print s, dt, s / dt, view"
     ],
     "language": "python",
     "metadata": {},
     "outputs": [
      {
       "output_type": "stream",
       "stream": "stdout",
       "text": [
        "34675\n",
        "230.216465712"
       ]
      },
      {
       "output_type": "stream",
       "stream": "stdout",
       "text": [
        " 58.1636180878 3.95808364886 <LoadBalancedView None>\n",
        "93.7215733528"
       ]
      },
      {
       "output_type": "stream",
       "stream": "stdout",
       "text": [
        " 31.3307859898 2.99135723513 <DirectView [0, 1, 2, 3]>\n"
       ]
      }
     ],
     "prompt_number": 6
    }
   ],
   "metadata": {}
  }
 ]
}