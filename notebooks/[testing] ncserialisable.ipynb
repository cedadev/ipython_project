{
 "metadata": {
  "name": "[testing] ncserialisable"
 },
 "nbformat": 3,
 "nbformat_minor": 0,
 "worksheets": [
  {
   "cells": [
    {
     "cell_type": "code",
     "collapsed": false,
     "input": [
      "import IPython\n",
      "c = IPython.parallel.Client()\n",
      "dv = c[0]\n",
      "dv.block = True\n",
      "dv.activate()\n",
      "\n",
      "with dv.sync_imports():\n",
      "    import pickle\n",
      "    import numpy\n",
      "    from nc_ipython import ncserialisable"
     ],
     "language": "python",
     "metadata": {},
     "outputs": [
      {
       "output_type": "stream",
       "stream": "stdout",
       "text": [
        "importing pickle on engine(s)\n",
        "importing numpy on engine(s)\n",
        "importing ncserialisable from nc_ipython on engine(s)"
       ]
      },
      {
       "output_type": "stream",
       "stream": "stdout",
       "text": [
        "\n"
       ]
      }
     ],
     "prompt_number": 4
    },
    {
     "cell_type": "code",
     "collapsed": false,
     "input": [
      "from nc_ipython import ncserialisable"
     ],
     "language": "python",
     "metadata": {},
     "outputs": [],
     "prompt_number": 1
    },
    {
     "cell_type": "code",
     "collapsed": false,
     "input": [
      "d = ncserialisable.Dataset('data', 'w', format = 'NETCDF4')\n",
      "try:\n",
      "    g = d.createGroup('g')\n",
      "    t = numpy.dtype(numpy.float64)\n",
      "    t = g.createVLType(t, 't')\n",
      "    x, y, z = 50, 30, 20\n",
      "    g.createDimension('x', x)\n",
      "    g.createDimension('y', y)\n",
      "    g.createDimension('z', z)\n",
      "    w = g.createVariable('w', t, ('x'))\n",
      "    v = g.createVariable('v', 'f8', ('x', 'y', 'z'))\n",
      "    for i in xrange(x):\n",
      "        for j in xrange(y):\n",
      "            v[i,j,:] = numpy.random.random(z)\n",
      "finally:\n",
      "    d.close()"
     ],
     "language": "python",
     "metadata": {},
     "outputs": [],
     "prompt_number": 3
    },
    {
     "cell_type": "code",
     "collapsed": false,
     "input": [
      "d = ncserialisable.Dataset('data', 'w', format = 'NETCDF3_64BIT')\n",
      "try:\n",
      "    x, y, z = 5, 3, 2\n",
      "    d.createDimension('x', x)\n",
      "    d.createDimension('y', y)\n",
      "    d.createDimension('z', z)\n",
      "    v = d.createVariable('v', 'f8', ('x', 'y', 'z'))\n",
      "    for i in xrange(x):\n",
      "        for j in xrange(y):\n",
      "            v[i,j,:] = numpy.random.random(z)\n",
      "finally:\n",
      "    d.close()"
     ],
     "language": "python",
     "metadata": {},
     "outputs": [],
     "prompt_number": 17
    },
    {
     "cell_type": "code",
     "collapsed": false,
     "input": [
      "reload(ncserialisable)\n",
      "%px reload(ncserialisable)"
     ],
     "language": "python",
     "metadata": {},
     "outputs": [
      {
       "output_type": "display_data",
       "text": [
        "\u001b[0;31mOut[0:10]: \u001b[0m<module 'nc_ipython.ncserialisable' from '/home/users/jmlansdowne/modules/nc_ipython/ncserialisable.pyc'>"
       ]
      }
     ],
     "prompt_number": 32
    },
    {
     "cell_type": "code",
     "collapsed": false,
     "input": [
      "def f (w):\n",
      "    v = w.group().variables['v']\n",
      "    rtn = (v[:].sum() / v.size, v.size, w.dtype)\n",
      "    w.group().parent.close()\n",
      "    return rtn\n",
      "\n",
      "d = ncserialisable.Dataset('data', 'r')\n",
      "try:\n",
      "    g = d.groups['g']\n",
      "    w = g.variables['w']\n",
      "    print dv.apply(f, w)\n",
      "finally:\n",
      "    try:\n",
      "        d.close()\n",
      "    except RuntimeError:\n",
      "        pass"
     ],
     "language": "python",
     "metadata": {},
     "outputs": [
      {
       "output_type": "stream",
       "stream": "stdout",
       "text": [
        "[0.50039141107065677, 30000, dtype('float64')]\n"
       ]
      }
     ],
     "prompt_number": 33
    }
   ],
   "metadata": {}
  }
 ]
}