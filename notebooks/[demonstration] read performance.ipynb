{
 "metadata": {
  "name": "[demonstration] read performance"
 },
 "nbformat": 3,
 "nbformat_minor": 0,
 "worksheets": [
  {
   "cells": [
    {
     "cell_type": "code",
     "collapsed": false,
     "input": [
      "from os.path import getsize\n",
      "from glob import glob\n",
      "from time import time\n",
      "import netCDF4\n",
      "\n",
      "def do_raw (chunks):\n",
      "    with open(fn, 'rb') as d:\n",
      "        for start, amount in chunks:\n",
      "            d.seek(start)\n",
      "            d.read(amount)\n",
      "\n",
      "def do_netcdf (chunks):\n",
      "    with netCDF4.Dataset(fn) as d:\n",
      "        v = d.variables[name]\n",
      "        for (t0, t1), h in chunks:\n",
      "            v[t0:t1,:h,...]\n",
      "\n",
      "name = 'ua'\n",
      "fn = glob('/opt/data/IPSL-CM5A-MR/rcp85/6hr/atmos/6hrLev/r1i1p1/latest/%s/*.nc' % name)[0]\n",
      "print fn"
     ],
     "language": "python",
     "metadata": {},
     "outputs": [
      {
       "output_type": "stream",
       "stream": "stdout",
       "text": [
        "/opt/data/IPSL-CM5A-MR/rcp85/6hr/atmos/6hrLev/r1i1p1/latest/ua/ua_6hrLev_IPSL-CM5A-MR_rcp85_r1i1p1_2006010103-2015123121.nc\n"
       ]
      }
     ],
     "prompt_number": 5
    },
    {
     "cell_type": "code",
     "collapsed": false,
     "input": [
      "method = (\n",
      "    ('raw', 'contiguous', 'few'),\n",
      "    ('raw', 'contiguous', 'many'),\n",
      "    ('raw', 'spread', None),\n",
      "    ('netcdf', 'contiguous', None),\n",
      "    ('netcdf', 'spread', None)\n",
      ")[4]\n",
      "\n",
      "with netCDF4.Dataset(fn) as d:\n",
      "    shape = d.variables[name].shape\n",
      "sz = getsize(fn)\n",
      "n_cells = reduce(int.__mul__, shape)\n",
      "cell_sz = float(sz) / n_cells\n",
      "blocks = shape[0] / shape[1]\n",
      "slcs = shape[1] * blocks\n",
      "slc_cells = shape[2] * shape[3]\n",
      "slc_sz = int(round(slc_cells * cell_sz))\n",
      "read_ts = 1000\n",
      "read_hs = 25\n",
      "block_cells = shape[1] * slc_cells\n",
      "block_sz = int(round(block_cells * cell_sz))\n",
      "\n",
      "if method[0] == 'raw':\n",
      "    do = do_raw\n",
      "    if method[1] == 'contiguous':\n",
      "        if method[2] == 'few':\n",
      "            chunks = [(i * block_sz, block_sz) for i in xrange(blocks)]\n",
      "        else:\n",
      "            chunks = [(i * block_sz, slc_sz) for i in xrange(slcs)]\n",
      "    else:\n",
      "        chunks = [(i * block_sz, slc_sz) for i in xrange(slcs)]\n",
      "    print '# bytes:', sum(zip(*chunks)[1])\n",
      "else:\n",
      "    do = do_netcdf\n",
      "    if method[1] == 'contiguous':\n",
      "        chunks = [((read_hs * i, read_hs * (i + 1)), shape[1]) for i in xrange(blocks / read_hs)]\n",
      "        chunks.append(((chunks[-1][0][1], chunks[-1][0][1] + blocks % read_hs), shape[1]))\n",
      "    else:\n",
      "        chunks = [((read_ts * i, read_ts * (i + 1)), 1) for i in xrange(slcs / read_ts)]\n",
      "        chunks.append(((chunks[-1][0][1], chunks[-1][0][1] + slcs % read_ts), 1))\n",
      "    print '# numbers:', sum((t1 - t0) * h for (t0, t1), h in chunks) * slc_cells * cell_sz\n",
      "\n",
      "print '# chunks:', len(chunks)\n",
      "\n",
      "t0 = time()\n",
      "do(chunks)\n",
      "print time() - t0"
     ],
     "language": "python",
     "metadata": {},
     "outputs": [],
     "prompt_number": 43
    },
    {
     "cell_type": "code",
     "collapsed": false,
     "input": [
      "# raw, contiguous, few\n",
      "6.0811650753, 5.89195919037, 6.07426786423\n",
      "# raw, contiguous, many\n",
      "76.244145155, 77.6571240425, 78.8810811043\n",
      "# raw, spread (many)\n",
      "76.6748468876, 76.8060109615, 76.8620369434\n",
      "# netcdf, contiguous\n",
      "12.133687973, 12.1888580322, 12.0239961147\n",
      "# netcdf, spread\n",
      "113.553792953, 110.792984962, 108.883361101"
     ],
     "language": "python",
     "metadata": {},
     "outputs": [],
     "prompt_number": 43
    }
   ],
   "metadata": {}
  }
 ]
}