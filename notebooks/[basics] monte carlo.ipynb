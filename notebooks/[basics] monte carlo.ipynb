{
 "metadata": {
  "name": "[basics] monte carlo"
 },
 "nbformat": 3,
 "nbformat_minor": 0,
 "worksheets": [
  {
   "cells": [
    {
     "cell_type": "code",
     "collapsed": false,
     "input": [
      "import numpy\n",
      "from IPython import parallel\n",
      "c = parallel.Client()\n",
      "d = c[:]\n",
      "d.block = True\n",
      "with d.sync_imports():\n",
      "    from random import random\n",
      "    from math import pi"
     ],
     "language": "python",
     "metadata": {},
     "outputs": [
      {
       "output_type": "stream",
       "stream": "stdout",
       "text": [
        "importing random from random on engine(s)\n",
        "importing pi from math on engine(s)\n"
       ]
      }
     ],
     "prompt_number": 3
    },
    {
     "cell_type": "code",
     "collapsed": false,
     "input": [
      "def mcpi (n):\n",
      "    s = 0\n",
      "    for i in xrange(n):\n",
      "        x = random()\n",
      "        y = random()\n",
      "        if x * x + y * y <= 1:\n",
      "            s += 1\n",
      "    return 4. * s / n\n",
      "\n",
      "%timeit pi = mcpi(1000000)\n",
      "pi"
     ],
     "language": "python",
     "metadata": {},
     "outputs": [
      {
       "output_type": "stream",
       "stream": "stdout",
       "text": [
        "1 loops, best of 3: 448 ms per loop\n"
       ]
      },
      {
       "output_type": "pyout",
       "prompt_number": 26,
       "text": [
        "3.1415926535897931"
       ]
      }
     ],
     "prompt_number": 26
    },
    {
     "cell_type": "code",
     "collapsed": false,
     "input": [
      "def mcpi (n):\n",
      "    s = 0\n",
      "    for i in xrange(n):\n",
      "        x = random()\n",
      "        y = random()\n",
      "        if x * x + y * y <= 1:\n",
      "            s += 1\n",
      "    return s\n",
      "\n",
      "d['mcpi'] = mcpi\n",
      "\n",
      "def multi_mcpi (n):\n",
      "    k = len(d.targets)\n",
      "    return 4. * sum(d.map(mcpi, [n / k] * k)) / n\n",
      "\n",
      "%timeit pi = multi_mcpi(1000000)\n",
      "pi"
     ],
     "language": "python",
     "metadata": {},
     "outputs": [
      {
       "output_type": "stream",
       "stream": "stdout",
       "text": [
        "1 loops, best of 3: 306 ms per loop\n"
       ]
      },
      {
       "output_type": "pyout",
       "prompt_number": 25,
       "text": [
        "3.1415926535897931"
       ]
      }
     ],
     "prompt_number": 25
    }
   ],
   "metadata": {}
  }
 ]
}