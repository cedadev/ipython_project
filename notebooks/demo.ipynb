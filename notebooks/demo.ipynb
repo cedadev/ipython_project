{
 "metadata": {
  "name": "demo"
 },
 "nbformat": 3,
 "nbformat_minor": 0,
 "worksheets": [
  {
   "cells": [
    {
     "cell_type": "code",
     "collapsed": false,
     "input": [
      "x = range(100)\n",
      "y = [i ** 2 for i in x]\n",
      "print y"
     ],
     "language": "python",
     "metadata": {},
     "outputs": [],
     "prompt_number": 4
    },
    {
     "cell_type": "code",
     "collapsed": false,
     "input": [
      "1 / 0"
     ],
     "language": "python",
     "metadata": {},
     "outputs": [],
     "prompt_number": 4
    },
    {
     "cell_type": "code",
     "collapsed": false,
     "input": [
      "%hist"
     ],
     "language": "python",
     "metadata": {},
     "outputs": [],
     "prompt_number": 5
    },
    {
     "cell_type": "code",
     "collapsed": false,
     "input": [
      "%pushd /\n",
      "!ls\n",
      "%popd"
     ],
     "language": "python",
     "metadata": {},
     "outputs": [],
     "prompt_number": 6
    },
    {
     "cell_type": "code",
     "collapsed": false,
     "input": [
      "!!ls"
     ],
     "language": "python",
     "metadata": {},
     "outputs": [],
     "prompt_number": 7
    },
    {
     "cell_type": "code",
     "collapsed": false,
     "input": [
      "for f in _:\n",
      "    !wc \"$f\""
     ],
     "language": "python",
     "metadata": {},
     "outputs": [],
     "prompt_number": 8
    },
    {
     "cell_type": "code",
     "collapsed": false,
     "input": [
      "plot(x, y)"
     ],
     "language": "python",
     "metadata": {},
     "outputs": [],
     "prompt_number": 9
    },
    {
     "cell_type": "code",
     "collapsed": false,
     "input": [
      "from mpl_toolkits.basemap import Basemap\n",
      "from netCDF4 import Dataset\n",
      "with Dataset('/data/cmip5/output1/MOHC/HadGEM2-ES/rcp85/mon/atmos/Amon/r1i1p1/'\n",
      "             'v20111215/tas/tas_Amon_HadGEM2-ES_rcp85_r1i1p1_200512-203011.nc') as d:\n",
      "    lat = d.variables['lat'][:]\n",
      "    lon = d.variables['lon'][:]\n",
      "    tas = d.variables['tas'][0,...]\n",
      "m = Basemap(projection = 'merc', llcrnrlat = -80, urcrnrlat = 80,\n",
      "            llcrnrlon = lon[0], urcrnrlon = lon[-1], lat_ts = 0)\n",
      "m.drawcoastlines()\n",
      "m.drawparallels(range(-90, 90, 30))\n",
      "m.drawmeridians(range(-0, 360, 30))\n",
      "x, y = m(*np.meshgrid(lon, lat))\n",
      "m.contourf(x, y, tas, 100)\n",
      "plt.colorbar()"
     ],
     "language": "python",
     "metadata": {},
     "outputs": [],
     "prompt_number": 1
    }
   ],
   "metadata": {}
  }
 ]
}