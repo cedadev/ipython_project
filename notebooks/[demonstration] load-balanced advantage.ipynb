{
 "metadata": {
  "name": "[demonstration] load-balanced advantage"
 },
 "nbformat": 3,
 "nbformat_minor": 0,
 "worksheets": [
  {
   "cells": [
    {
     "cell_type": "code",
     "collapsed": false,
     "input": [
      "from IPython import parallel\n",
      "import numpy\n",
      "\n",
      "c = parallel.Client()\n",
      "dv = c[:]\n",
      "dv.block = True\n",
      "lv = c.load_balanced_view()\n",
      "lv.block = True\n",
      "with dv.sync_imports():\n",
      "    from time import sleep\n",
      "\n",
      "n_engines = len(dv)\n",
      "n_per_engine = 5\n",
      "times = numpy.random.random(n_engines * n_per_engine)\n",
      "print 'total:', times.sum()\n",
      "print 'direct:', max(arr.sum() for arr in numpy.split(times, n_engines))\n",
      "print 'optimal:', times.sum() / n_engines\n",
      "print times"
     ],
     "language": "python",
     "metadata": {},
     "outputs": [
      {
       "output_type": "stream",
       "stream": "stdout",
       "text": [
        "importing sleep from time on engine(s)\n",
        "total: 2.4434907354\n",
        "direct: 2.15611276886\n",
        "optimal: 1.2217453677\n",
        "[ 0.10898006  0.00155746  0.01812814  0.06608185  0.09263046  0.49210495\n",
        "  0.37820307  0.41992805  0.63172591  0.23415078]\n"
       ]
      }
     ],
     "prompt_number": 56
    },
    {
     "cell_type": "code",
     "collapsed": false,
     "input": [
      "def f (t):\n",
      "    sleep(t)\n",
      "\n",
      "%timeit dv.map(f, times)\n",
      "%timeit lv.map(f, times)"
     ],
     "language": "python",
     "metadata": {},
     "outputs": [
      {
       "output_type": "stream",
       "stream": "stdout",
       "text": [
        "1 loops, best of 3: 2.17 s per loop\n",
        "1 loops, best of 3: 1.26 s per loop"
       ]
      },
      {
       "output_type": "stream",
       "stream": "stdout",
       "text": [
        "\n"
       ]
      }
     ],
     "prompt_number": 57
    }
   ],
   "metadata": {}
  }
 ]
}